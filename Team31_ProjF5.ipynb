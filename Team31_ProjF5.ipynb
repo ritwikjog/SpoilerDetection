{
  "cells": [
    {
      "cell_type": "markdown",
      "metadata": {
        "nbgrader": {
          "grade": false,
          "locked": true,
          "solution": false
        },
        "id": "QxpO46Ul8qp0"
      },
      "source": [
        "## ProjF5 - Final Model\n",
        "\n",
        "Use this document as a template to provide the evaluation of your final model. You are welcome to go in as much depth as needed.\n",
        "\n",
        "Make sure you keep the sections specified in this template, but you are welcome to add more cells with your code or explanation as needed."
      ]
    },
    {
      "cell_type": "code",
      "execution_count": null,
      "metadata": {
        "nbgrader": {
          "grade": false,
          "locked": true,
          "solution": false
        },
        "id": "ibqBgqcr8qp3"
      },
      "outputs": [],
      "source": [
        "import numpy as np\n",
        "import pandas as pd\n",
        "import matplotlib.pyplot as plt\n",
        "from sklearn.model_selection import train_test_split\n",
        "import tensorflow as tf\n",
        "from tensorflow.keras.layers import Embedding, LSTM, Dense\n",
        "from tensorflow.keras.models import Sequential\n",
        "from tensorflow.keras.preprocessing.text import Tokenizer\n",
        "from tensorflow.keras.preprocessing.sequence import pad_sequences"
      ]
    },
    {
      "cell_type": "markdown",
      "metadata": {
        "nbgrader": {
          "grade": false,
          "locked": true,
          "solution": false
        },
        "id": "DVrK750r8qp4"
      },
      "source": [
        "### 1. Load and Prepare Data\n",
        "\n",
        "This should illustrate your code for loading the dataset and the split into training, validation and testing. You can add steps like pre-processing if needed."
      ]
    },
    {
      "cell_type": "code",
      "source": [
        "df = pd.read_csv('data.csv')"
      ],
      "metadata": {
        "id": "lzvC8AhE4jmr"
      },
      "execution_count": null,
      "outputs": []
    },
    {
      "cell_type": "code",
      "execution_count": null,
      "metadata": {
        "nbgrader": {
          "grade": false,
          "locked": true,
          "solution": false
        },
        "id": "WB3iJ5Rl8qp4",
        "colab": {
          "base_uri": "https://localhost:8080/",
          "height": 328
        },
        "outputId": "ab1de7dc-eb7c-4967-e78d-435a4c79a1ab"
      },
      "outputs": [
        {
          "output_type": "stream",
          "name": "stdout",
          "text": [
            "192994\n"
          ]
        },
        {
          "output_type": "execute_result",
          "data": {
            "text/plain": [
              "   Unnamed: 0 review_date   movie_id     user_id  is_spoiler  \\\n",
              "0           0  2013-07-16  tt0111161  ur34426359        True   \n",
              "1           1  2013-07-02  tt0111161  ur30748387        True   \n",
              "2           2  2015-02-09  tt0111161  ur58506458        True   \n",
              "3           3  2013-04-28  tt0111161  ur22620730        True   \n",
              "4           4  2013-02-15  tt0111161  ur23833870        True   \n",
              "\n",
              "                                         review_text  rating  \\\n",
              "0  Wow! what a film this baby is and yes this fil...      10   \n",
              "1  In 1947, banker Andy Dufresne (Tim Robbins) is...      10   \n",
              "2  The Shawshank Redemption is a movie that creat...      10   \n",
              "3  And I truly mean that. When I first saw this f...      10   \n",
              "4  Well let me start off by saying I felt compell...      10   \n",
              "\n",
              "                              review_summary  \\\n",
              "0  Great films come only once in a blue moon   \n",
              "1                                     Yes...   \n",
              "2                 The Best Movie of all Time   \n",
              "3     One of the Greatest Films of All Time.   \n",
              "4              My favourite move of all time   \n",
              "\n",
              "                              cleaned_review_stemmed  num_words  has_spoiler  \\\n",
              "0  wow film baby ye film one brilliant film ever ...        137        False   \n",
              "1  banker robbin murdering wife lover based circu...        697        False   \n",
              "2  redemption movie create sense mystery power ro...        169        False   \n",
              "3  truly mean first saw film blown away superb ac...        286        False   \n",
              "4  well let start saying felt write review spite ...        249        False   \n",
              "\n",
              "   has_plot twist  \n",
              "0           False  \n",
              "1           False  \n",
              "2           False  \n",
              "3           False  \n",
              "4           False  "
            ],
            "text/html": [
              "\n",
              "  <div id=\"df-8c9bfabb-ac25-4be9-803e-cac8750b3a4d\" class=\"colab-df-container\">\n",
              "    <div>\n",
              "<style scoped>\n",
              "    .dataframe tbody tr th:only-of-type {\n",
              "        vertical-align: middle;\n",
              "    }\n",
              "\n",
              "    .dataframe tbody tr th {\n",
              "        vertical-align: top;\n",
              "    }\n",
              "\n",
              "    .dataframe thead th {\n",
              "        text-align: right;\n",
              "    }\n",
              "</style>\n",
              "<table border=\"1\" class=\"dataframe\">\n",
              "  <thead>\n",
              "    <tr style=\"text-align: right;\">\n",
              "      <th></th>\n",
              "      <th>Unnamed: 0</th>\n",
              "      <th>review_date</th>\n",
              "      <th>movie_id</th>\n",
              "      <th>user_id</th>\n",
              "      <th>is_spoiler</th>\n",
              "      <th>review_text</th>\n",
              "      <th>rating</th>\n",
              "      <th>review_summary</th>\n",
              "      <th>cleaned_review_stemmed</th>\n",
              "      <th>num_words</th>\n",
              "      <th>has_spoiler</th>\n",
              "      <th>has_plot twist</th>\n",
              "    </tr>\n",
              "  </thead>\n",
              "  <tbody>\n",
              "    <tr>\n",
              "      <th>0</th>\n",
              "      <td>0</td>\n",
              "      <td>2013-07-16</td>\n",
              "      <td>tt0111161</td>\n",
              "      <td>ur34426359</td>\n",
              "      <td>True</td>\n",
              "      <td>Wow! what a film this baby is and yes this fil...</td>\n",
              "      <td>10</td>\n",
              "      <td>Great films come only once in a blue moon</td>\n",
              "      <td>wow film baby ye film one brilliant film ever ...</td>\n",
              "      <td>137</td>\n",
              "      <td>False</td>\n",
              "      <td>False</td>\n",
              "    </tr>\n",
              "    <tr>\n",
              "      <th>1</th>\n",
              "      <td>1</td>\n",
              "      <td>2013-07-02</td>\n",
              "      <td>tt0111161</td>\n",
              "      <td>ur30748387</td>\n",
              "      <td>True</td>\n",
              "      <td>In 1947, banker Andy Dufresne (Tim Robbins) is...</td>\n",
              "      <td>10</td>\n",
              "      <td>Yes...</td>\n",
              "      <td>banker robbin murdering wife lover based circu...</td>\n",
              "      <td>697</td>\n",
              "      <td>False</td>\n",
              "      <td>False</td>\n",
              "    </tr>\n",
              "    <tr>\n",
              "      <th>2</th>\n",
              "      <td>2</td>\n",
              "      <td>2015-02-09</td>\n",
              "      <td>tt0111161</td>\n",
              "      <td>ur58506458</td>\n",
              "      <td>True</td>\n",
              "      <td>The Shawshank Redemption is a movie that creat...</td>\n",
              "      <td>10</td>\n",
              "      <td>The Best Movie of all Time</td>\n",
              "      <td>redemption movie create sense mystery power ro...</td>\n",
              "      <td>169</td>\n",
              "      <td>False</td>\n",
              "      <td>False</td>\n",
              "    </tr>\n",
              "    <tr>\n",
              "      <th>3</th>\n",
              "      <td>3</td>\n",
              "      <td>2013-04-28</td>\n",
              "      <td>tt0111161</td>\n",
              "      <td>ur22620730</td>\n",
              "      <td>True</td>\n",
              "      <td>And I truly mean that. When I first saw this f...</td>\n",
              "      <td>10</td>\n",
              "      <td>One of the Greatest Films of All Time.</td>\n",
              "      <td>truly mean first saw film blown away superb ac...</td>\n",
              "      <td>286</td>\n",
              "      <td>False</td>\n",
              "      <td>False</td>\n",
              "    </tr>\n",
              "    <tr>\n",
              "      <th>4</th>\n",
              "      <td>4</td>\n",
              "      <td>2013-02-15</td>\n",
              "      <td>tt0111161</td>\n",
              "      <td>ur23833870</td>\n",
              "      <td>True</td>\n",
              "      <td>Well let me start off by saying I felt compell...</td>\n",
              "      <td>10</td>\n",
              "      <td>My favourite move of all time</td>\n",
              "      <td>well let start saying felt write review spite ...</td>\n",
              "      <td>249</td>\n",
              "      <td>False</td>\n",
              "      <td>False</td>\n",
              "    </tr>\n",
              "  </tbody>\n",
              "</table>\n",
              "</div>\n",
              "    <div class=\"colab-df-buttons\">\n",
              "\n",
              "  <div class=\"colab-df-container\">\n",
              "    <button class=\"colab-df-convert\" onclick=\"convertToInteractive('df-8c9bfabb-ac25-4be9-803e-cac8750b3a4d')\"\n",
              "            title=\"Convert this dataframe to an interactive table.\"\n",
              "            style=\"display:none;\">\n",
              "\n",
              "  <svg xmlns=\"http://www.w3.org/2000/svg\" height=\"24px\" viewBox=\"0 -960 960 960\">\n",
              "    <path d=\"M120-120v-720h720v720H120Zm60-500h600v-160H180v160Zm220 220h160v-160H400v160Zm0 220h160v-160H400v160ZM180-400h160v-160H180v160Zm440 0h160v-160H620v160ZM180-180h160v-160H180v160Zm440 0h160v-160H620v160Z\"/>\n",
              "  </svg>\n",
              "    </button>\n",
              "\n",
              "  <style>\n",
              "    .colab-df-container {\n",
              "      display:flex;\n",
              "      gap: 12px;\n",
              "    }\n",
              "\n",
              "    .colab-df-convert {\n",
              "      background-color: #E8F0FE;\n",
              "      border: none;\n",
              "      border-radius: 50%;\n",
              "      cursor: pointer;\n",
              "      display: none;\n",
              "      fill: #1967D2;\n",
              "      height: 32px;\n",
              "      padding: 0 0 0 0;\n",
              "      width: 32px;\n",
              "    }\n",
              "\n",
              "    .colab-df-convert:hover {\n",
              "      background-color: #E2EBFA;\n",
              "      box-shadow: 0px 1px 2px rgba(60, 64, 67, 0.3), 0px 1px 3px 1px rgba(60, 64, 67, 0.15);\n",
              "      fill: #174EA6;\n",
              "    }\n",
              "\n",
              "    .colab-df-buttons div {\n",
              "      margin-bottom: 4px;\n",
              "    }\n",
              "\n",
              "    [theme=dark] .colab-df-convert {\n",
              "      background-color: #3B4455;\n",
              "      fill: #D2E3FC;\n",
              "    }\n",
              "\n",
              "    [theme=dark] .colab-df-convert:hover {\n",
              "      background-color: #434B5C;\n",
              "      box-shadow: 0px 1px 3px 1px rgba(0, 0, 0, 0.15);\n",
              "      filter: drop-shadow(0px 1px 2px rgba(0, 0, 0, 0.3));\n",
              "      fill: #FFFFFF;\n",
              "    }\n",
              "  </style>\n",
              "\n",
              "    <script>\n",
              "      const buttonEl =\n",
              "        document.querySelector('#df-8c9bfabb-ac25-4be9-803e-cac8750b3a4d button.colab-df-convert');\n",
              "      buttonEl.style.display =\n",
              "        google.colab.kernel.accessAllowed ? 'block' : 'none';\n",
              "\n",
              "      async function convertToInteractive(key) {\n",
              "        const element = document.querySelector('#df-8c9bfabb-ac25-4be9-803e-cac8750b3a4d');\n",
              "        const dataTable =\n",
              "          await google.colab.kernel.invokeFunction('convertToInteractive',\n",
              "                                                    [key], {});\n",
              "        if (!dataTable) return;\n",
              "\n",
              "        const docLinkHtml = 'Like what you see? Visit the ' +\n",
              "          '<a target=\"_blank\" href=https://colab.research.google.com/notebooks/data_table.ipynb>data table notebook</a>'\n",
              "          + ' to learn more about interactive tables.';\n",
              "        element.innerHTML = '';\n",
              "        dataTable['output_type'] = 'display_data';\n",
              "        await google.colab.output.renderOutput(dataTable, element);\n",
              "        const docLink = document.createElement('div');\n",
              "        docLink.innerHTML = docLinkHtml;\n",
              "        element.appendChild(docLink);\n",
              "      }\n",
              "    </script>\n",
              "  </div>\n",
              "\n",
              "\n",
              "<div id=\"df-ce5fe51f-e17f-4d6a-9b1e-cf40a4fb4fea\">\n",
              "  <button class=\"colab-df-quickchart\" onclick=\"quickchart('df-ce5fe51f-e17f-4d6a-9b1e-cf40a4fb4fea')\"\n",
              "            title=\"Suggest charts\"\n",
              "            style=\"display:none;\">\n",
              "\n",
              "<svg xmlns=\"http://www.w3.org/2000/svg\" height=\"24px\"viewBox=\"0 0 24 24\"\n",
              "     width=\"24px\">\n",
              "    <g>\n",
              "        <path d=\"M19 3H5c-1.1 0-2 .9-2 2v14c0 1.1.9 2 2 2h14c1.1 0 2-.9 2-2V5c0-1.1-.9-2-2-2zM9 17H7v-7h2v7zm4 0h-2V7h2v10zm4 0h-2v-4h2v4z\"/>\n",
              "    </g>\n",
              "</svg>\n",
              "  </button>\n",
              "\n",
              "<style>\n",
              "  .colab-df-quickchart {\n",
              "      --bg-color: #E8F0FE;\n",
              "      --fill-color: #1967D2;\n",
              "      --hover-bg-color: #E2EBFA;\n",
              "      --hover-fill-color: #174EA6;\n",
              "      --disabled-fill-color: #AAA;\n",
              "      --disabled-bg-color: #DDD;\n",
              "  }\n",
              "\n",
              "  [theme=dark] .colab-df-quickchart {\n",
              "      --bg-color: #3B4455;\n",
              "      --fill-color: #D2E3FC;\n",
              "      --hover-bg-color: #434B5C;\n",
              "      --hover-fill-color: #FFFFFF;\n",
              "      --disabled-bg-color: #3B4455;\n",
              "      --disabled-fill-color: #666;\n",
              "  }\n",
              "\n",
              "  .colab-df-quickchart {\n",
              "    background-color: var(--bg-color);\n",
              "    border: none;\n",
              "    border-radius: 50%;\n",
              "    cursor: pointer;\n",
              "    display: none;\n",
              "    fill: var(--fill-color);\n",
              "    height: 32px;\n",
              "    padding: 0;\n",
              "    width: 32px;\n",
              "  }\n",
              "\n",
              "  .colab-df-quickchart:hover {\n",
              "    background-color: var(--hover-bg-color);\n",
              "    box-shadow: 0 1px 2px rgba(60, 64, 67, 0.3), 0 1px 3px 1px rgba(60, 64, 67, 0.15);\n",
              "    fill: var(--button-hover-fill-color);\n",
              "  }\n",
              "\n",
              "  .colab-df-quickchart-complete:disabled,\n",
              "  .colab-df-quickchart-complete:disabled:hover {\n",
              "    background-color: var(--disabled-bg-color);\n",
              "    fill: var(--disabled-fill-color);\n",
              "    box-shadow: none;\n",
              "  }\n",
              "\n",
              "  .colab-df-spinner {\n",
              "    border: 2px solid var(--fill-color);\n",
              "    border-color: transparent;\n",
              "    border-bottom-color: var(--fill-color);\n",
              "    animation:\n",
              "      spin 1s steps(1) infinite;\n",
              "  }\n",
              "\n",
              "  @keyframes spin {\n",
              "    0% {\n",
              "      border-color: transparent;\n",
              "      border-bottom-color: var(--fill-color);\n",
              "      border-left-color: var(--fill-color);\n",
              "    }\n",
              "    20% {\n",
              "      border-color: transparent;\n",
              "      border-left-color: var(--fill-color);\n",
              "      border-top-color: var(--fill-color);\n",
              "    }\n",
              "    30% {\n",
              "      border-color: transparent;\n",
              "      border-left-color: var(--fill-color);\n",
              "      border-top-color: var(--fill-color);\n",
              "      border-right-color: var(--fill-color);\n",
              "    }\n",
              "    40% {\n",
              "      border-color: transparent;\n",
              "      border-right-color: var(--fill-color);\n",
              "      border-top-color: var(--fill-color);\n",
              "    }\n",
              "    60% {\n",
              "      border-color: transparent;\n",
              "      border-right-color: var(--fill-color);\n",
              "    }\n",
              "    80% {\n",
              "      border-color: transparent;\n",
              "      border-right-color: var(--fill-color);\n",
              "      border-bottom-color: var(--fill-color);\n",
              "    }\n",
              "    90% {\n",
              "      border-color: transparent;\n",
              "      border-bottom-color: var(--fill-color);\n",
              "    }\n",
              "  }\n",
              "</style>\n",
              "\n",
              "  <script>\n",
              "    async function quickchart(key) {\n",
              "      const quickchartButtonEl =\n",
              "        document.querySelector('#' + key + ' button');\n",
              "      quickchartButtonEl.disabled = true;  // To prevent multiple clicks.\n",
              "      quickchartButtonEl.classList.add('colab-df-spinner');\n",
              "      try {\n",
              "        const charts = await google.colab.kernel.invokeFunction(\n",
              "            'suggestCharts', [key], {});\n",
              "      } catch (error) {\n",
              "        console.error('Error during call to suggestCharts:', error);\n",
              "      }\n",
              "      quickchartButtonEl.classList.remove('colab-df-spinner');\n",
              "      quickchartButtonEl.classList.add('colab-df-quickchart-complete');\n",
              "    }\n",
              "    (() => {\n",
              "      let quickchartButtonEl =\n",
              "        document.querySelector('#df-ce5fe51f-e17f-4d6a-9b1e-cf40a4fb4fea button');\n",
              "      quickchartButtonEl.style.display =\n",
              "        google.colab.kernel.accessAllowed ? 'block' : 'none';\n",
              "    })();\n",
              "  </script>\n",
              "</div>\n",
              "    </div>\n",
              "  </div>\n"
            ],
            "application/vnd.google.colaboratory.intrinsic+json": {
              "type": "dataframe",
              "variable_name": "df"
            }
          },
          "metadata": {},
          "execution_count": 7
        }
      ],
      "source": [
        "print(len(df))\n",
        "df.head()"
      ]
    },
    {
      "cell_type": "code",
      "source": [
        "#Picking out equal samples from the dataset to ensure there is no bias.\n",
        "\n",
        "true_samples = df[df['is_spoiler'] == True].sample(n=30000)\n",
        "false_samples = df[df['is_spoiler'] == False].sample(n=30000)\n",
        "df_balanced = pd.concat([true_samples, false_samples])\n",
        "X = df_balanced['cleaned_review_stemmed']\n",
        "y = df_balanced['is_spoiler']"
      ],
      "metadata": {
        "id": "8JLpaDxkQwU_"
      },
      "execution_count": null,
      "outputs": []
    },
    {
      "cell_type": "code",
      "source": [
        "#Preparing data to feed into the neural network.\n",
        "lst = X.tolist()\n",
        "tokenizer = Tokenizer()\n",
        "tokenizer.fit_on_texts(lst)\n",
        "sequences = tokenizer.texts_to_sequences(lst)"
      ],
      "metadata": {
        "id": "weto37lSRmVQ"
      },
      "execution_count": null,
      "outputs": []
    },
    {
      "cell_type": "code",
      "source": [
        "max_length = max(len(seq) for seq in sequences)\n",
        "padded_sequences = pad_sequences(sequences, maxlen=max_length, padding='post')"
      ],
      "metadata": {
        "id": "GdrmdRraUE5p"
      },
      "execution_count": null,
      "outputs": []
    },
    {
      "cell_type": "code",
      "source": [
        "y = y.astype(int)"
      ],
      "metadata": {
        "id": "CykxM7KGUGMM"
      },
      "execution_count": null,
      "outputs": []
    },
    {
      "cell_type": "code",
      "source": [
        "#train test split\n",
        "X_train, X_test, y_train, y_test = train_test_split(padded_sequences, y, test_size=0.2, stratify=y)"
      ],
      "metadata": {
        "id": "apuEG5FdSSpQ"
      },
      "execution_count": null,
      "outputs": []
    },
    {
      "cell_type": "markdown",
      "metadata": {
        "id": "-K3ISILq8qp5"
      },
      "source": [
        "### 2. Prepare your Final Model\n",
        "\n",
        "Here you can have your code to either train (e.g., if you are building it from scratch) your model. These steps may require you to use other packages or python files. You can just call them here. You don't have to include them in your submission. Remember that we will be looking at the saved outputs in the notebooked and we will not run the entire notebook."
      ]
    },
    {
      "cell_type": "code",
      "execution_count": null,
      "metadata": {
        "id": "OjTT6eN78qp5"
      },
      "outputs": [],
      "source": [
        "model = Sequential([\n",
        "    Embedding(input_dim=len(tokenizer.word_index)+1, output_dim=64, input_length=max_length),\n",
        "    LSTM(64),\n",
        "    Dense(1, activation='sigmoid')\n",
        "])\n",
        "\n",
        "model.compile(optimizer='adam', loss='binary_crossentropy', metrics=['accuracy'])"
      ]
    },
    {
      "cell_type": "code",
      "source": [
        "model.fit(X_train, y_train, epochs=100, validation_split=0.2)"
      ],
      "metadata": {
        "id": "oRSNz7cZzfM9"
      },
      "execution_count": null,
      "outputs": []
    },
    {
      "cell_type": "markdown",
      "metadata": {
        "nbgrader": {
          "grade": false,
          "locked": true,
          "solution": false
        },
        "id": "ofGOo3lM8qp5"
      },
      "source": [
        "### 3. Model Performance\n",
        "\n",
        "Make sure to include the following:\n",
        "- Performance on the training set\n",
        "- Performance on the test set\n",
        "- Provide some screenshots of your output (e.g., pictures, text output, or a histogram of predicted values in the case of tabular data). Any visualization of the predictions are welcome."
      ]
    },
    {
      "cell_type": "code",
      "source": [
        "#Performance on Training Set\n",
        "yTrainProbs = model.predict(X_train)\n",
        "yTrainHat = (yTrainProbs>0.5)"
      ],
      "metadata": {
        "id": "4hJphdA_CJL8",
        "colab": {
          "base_uri": "https://localhost:8080/"
        },
        "outputId": "9f16e1dc-ea54-4d43-acd7-4737fac09fa7"
      },
      "execution_count": null,
      "outputs": [
        {
          "output_type": "stream",
          "name": "stdout",
          "text": [
            "1500/1500 [==============================] - 272s 181ms/step\n"
          ]
        }
      ]
    },
    {
      "cell_type": "code",
      "source": [
        "from sklearn.metrics import accuracy_score, confusion_matrix, ConfusionMatrixDisplay\n",
        "print(\"Accuracy Score:\", accuracy_score(y_train, yTrainHat))\n",
        "cm = confusion_matrix(y_train,yTrainHat,normalize='true')\n",
        "disp = ConfusionMatrixDisplay(confusion_matrix=cm,display_labels=\n",
        "                              ['No Spoilers','Spoilers'])\n",
        "disp.plot()"
      ],
      "metadata": {
        "colab": {
          "base_uri": "https://localhost:8080/",
          "height": 490
        },
        "id": "sy3Cj2EvwTEN",
        "outputId": "a050b19b-f37e-483f-cbe8-ee67b4c1cf28"
      },
      "execution_count": null,
      "outputs": [
        {
          "output_type": "stream",
          "name": "stdout",
          "text": [
            "Accuracy Score: 0.8990208333333334\n"
          ]
        },
        {
          "output_type": "execute_result",
          "data": {
            "text/plain": [
              "<sklearn.metrics._plot.confusion_matrix.ConfusionMatrixDisplay at 0x7cdc9d511180>"
            ]
          },
          "metadata": {},
          "execution_count": 59
        },
        {
          "output_type": "display_data",
          "data": {
            "text/plain": [
              "<Figure size 640x480 with 2 Axes>"
            ],
            "image/png": "[encoded data removed]"
          },
          "metadata": {}
        }
      ]
    },
    {
      "cell_type": "code",
      "source": [
        "#Performance on Test Set\n",
        "yTestProbs = model.predict(X_test)\n",
        "yTestHat = (yTestProbs>0.5)"
      ],
      "metadata": {
        "outputId": "5a7c8bba-02ad-4018-d09d-c728573d7437",
        "colab": {
          "base_uri": "https://localhost:8080/"
        },
        "id": "1HE0TxOWw9y-"
      },
      "execution_count": null,
      "outputs": [
        {
          "output_type": "stream",
          "name": "stdout",
          "text": [
            "375/375 [==============================] - 53s 141ms/step\n"
          ]
        }
      ]
    },
    {
      "cell_type": "code",
      "source": [
        "cm = confusion_matrix(y_test,yTestHat,normalize='true')\n",
        "disp = ConfusionMatrixDisplay(confusion_matrix=cm,display_labels=\n",
        "                              ['No Spoilers','Spoilers'])\n",
        "disp.plot()"
      ],
      "metadata": {
        "outputId": "8ce5eb11-197b-414b-a2ec-b72d803b7d53",
        "colab": {
          "base_uri": "https://localhost:8080/",
          "height": 490
        },
        "id": "DyVV_Wtjw9y_"
      },
      "execution_count": null,
      "outputs": [
        {
          "output_type": "stream",
          "name": "stdout",
          "text": [
            "Accuracy Score: 0.8543333333333333\n"
          ]
        },
        {
          "output_type": "execute_result",
          "data": {
            "text/plain": [
              "<sklearn.metrics._plot.confusion_matrix.ConfusionMatrixDisplay at 0x7cdcb8a72200>"
            ]
          },
          "metadata": {},
          "execution_count": 62
        },
        {
          "output_type": "display_data",
          "data": {
            "text/plain": [
              "<Figure size 640x480 with 2 Axes>"
            ],
            "image/png": "[encoded data removed]"
          },
          "metadata": {}
        }
      ]
    },
    {
      "cell_type": "code",
      "source": [],
      "metadata": {
        "id": "ZjdG0lrcxl-e"
      },
      "execution_count": null,
      "outputs": []
    }
  ],
  "metadata": {
    "kernelspec": {
      "display_name": "Python 3 [3.10]",
      "language": "python",
      "name": "python3"
    },
    "language_info": {
      "codemirror_mode": {
        "name": "ipython",
        "version": 3
      },
      "file_extension": ".py",
      "mimetype": "text/x-python",
      "name": "python",
      "nbconvert_exporter": "python",
      "pygments_lexer": "ipython3",
      "version": "3.9.13"
    },
    "colab": {
      "provenance": []
    }
  },
  "nbformat": 4,
  "nbformat_minor": 0
}